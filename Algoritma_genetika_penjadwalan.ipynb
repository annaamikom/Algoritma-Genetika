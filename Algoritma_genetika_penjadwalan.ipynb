{
  "nbformat": 4,
  "nbformat_minor": 0,
  "metadata": {
    "colab": {
      "provenance": []
    },
    "kernelspec": {
      "name": "python3",
      "display_name": "Python 3"
    },
    "language_info": {
      "name": "python"
    }
  },
  "cells": [
    {
      "cell_type": "markdown",
      "source": [
        "## **ALgoritma Genetika**\n",
        "\n",
        "Tahapan Algoritma:\n",
        "1. Generate Populasi\n",
        "2. Kalkulasi Nilai Fitness\n",
        "3. Seleksi Orangtua/Parent\n",
        "4. Crossover\n",
        "5. Mutasi\n",
        "6. Survivor Selection/Evolusi\n"
      ],
      "metadata": {
        "id": "soYdzX4sOBqs"
      }
    },
    {
      "cell_type": "markdown",
      "source": [
        "## **Studi Kasus:**\n",
        "Bagaimana membuat model penjadwalan beberapa mata kuliah ke dalam slot waktu dan ruang kelas yang tersedia, dengan mempertimbangkan:\n",
        "\n",
        "\n",
        "\n",
        "*   Tidak ada dosen yang mengajar di dua tempat bersamaan\n",
        "*  Tidak ada kelas yang dipakai dua mata kuliah di waktu sama\n",
        "* Mahasiswa tidak bentrok jadwalnya\n",
        "\n",
        "\n",
        "\n",
        "\n",
        "\n"
      ],
      "metadata": {
        "id": "lYg_R3g0Omct"
      }
    },
    {
      "cell_type": "code",
      "source": [
        "# import library\n",
        "import random"
      ],
      "metadata": {
        "id": "YM_63eWCN-u8"
      },
      "execution_count": 1,
      "outputs": []
    },
    {
      "cell_type": "code",
      "source": [
        "# Data master\n",
        "mata_kuliah = [\"IF101\", \"IF102\", \"IF103\", \"IF104\", \"IF105\"]\n",
        "dosen = [\"Anwar\", \"Budi\", \"Chika\"]\n",
        "hari = [\"Senin\", \"Selasa\", \"Rabu\"]\n",
        "jam = [\"08.00\", \"10.00\", \"13.00\"]\n",
        "ruang = [\"R1\", \"R2\"]"
      ],
      "metadata": {
        "id": "1rNfVJ-ERDJ1"
      },
      "execution_count": 2,
      "outputs": []
    },
    {
      "cell_type": "markdown",
      "source": [
        "###**1. Generate Populasi**"
      ],
      "metadata": {
        "id": "-CLfbZPLRLVj"
      }
    },
    {
      "cell_type": "code",
      "source": [
        "# Representasi satu gen (satu mata kuliah)\n",
        "def generate_gene(matkul):\n",
        "    return {\n",
        "        \"matkul\": matkul,\n",
        "        \"dosen\": random.choice(dosen),\n",
        "        \"hari\": random.choice(hari),\n",
        "        \"jam\": random.choice(jam),\n",
        "        \"ruang\": random.choice(ruang)\n",
        "    }\n",
        "\n",
        "# Representasi Kromosom\n",
        "def generate_chromosome():\n",
        "    return [generate_gene(mk) for mk in mata_kuliah]"
      ],
      "metadata": {
        "id": "UykgkLKYR2ZT"
      },
      "execution_count": 3,
      "outputs": []
    },
    {
      "cell_type": "code",
      "source": [
        "#tampilkan contoh gen, misal untuk makul IF101\n",
        "gene=generate_gene(\"IF101\")\n",
        "gene"
      ],
      "metadata": {
        "colab": {
          "base_uri": "https://localhost:8080/"
        },
        "id": "liMYAi9PR7ez",
        "outputId": "1fbae030-a8ff-4eed-f3c1-91d5c7f5d9f4"
      },
      "execution_count": 4,
      "outputs": [
        {
          "output_type": "execute_result",
          "data": {
            "text/plain": [
              "{'matkul': 'IF101',\n",
              " 'dosen': 'Budi',\n",
              " 'hari': 'Selasa',\n",
              " 'jam': '08.00',\n",
              " 'ruang': 'R1'}"
            ]
          },
          "metadata": {},
          "execution_count": 4
        }
      ]
    },
    {
      "cell_type": "code",
      "source": [
        "#tampilkan contoh kromosom\n",
        "chromosome=generate_chromosome()\n",
        "chromosome"
      ],
      "metadata": {
        "colab": {
          "base_uri": "https://localhost:8080/"
        },
        "id": "N02MTvOsSH6j",
        "outputId": "da340226-e077-462c-fcec-49e80775612d"
      },
      "execution_count": 5,
      "outputs": [
        {
          "output_type": "execute_result",
          "data": {
            "text/plain": [
              "[{'matkul': 'IF101',\n",
              "  'dosen': 'Budi',\n",
              "  'hari': 'Senin',\n",
              "  'jam': '13.00',\n",
              "  'ruang': 'R1'},\n",
              " {'matkul': 'IF102',\n",
              "  'dosen': 'Budi',\n",
              "  'hari': 'Rabu',\n",
              "  'jam': '13.00',\n",
              "  'ruang': 'R2'},\n",
              " {'matkul': 'IF103',\n",
              "  'dosen': 'Budi',\n",
              "  'hari': 'Selasa',\n",
              "  'jam': '10.00',\n",
              "  'ruang': 'R2'},\n",
              " {'matkul': 'IF104',\n",
              "  'dosen': 'Budi',\n",
              "  'hari': 'Senin',\n",
              "  'jam': '10.00',\n",
              "  'ruang': 'R1'},\n",
              " {'matkul': 'IF105',\n",
              "  'dosen': 'Budi',\n",
              "  'hari': 'Senin',\n",
              "  'jam': '13.00',\n",
              "  'ruang': 'R1'}]"
            ]
          },
          "metadata": {},
          "execution_count": 5
        }
      ]
    },
    {
      "cell_type": "markdown",
      "source": [
        "### **2. Hitung Nilai Fitness**"
      ],
      "metadata": {
        "id": "vpWafK7zRmEE"
      }
    },
    {
      "cell_type": "code",
      "source": [
        "# Fungsi fitness\n",
        "# munggunakan fungsi minimasi\n",
        "# Fungsi Objectif di tentukan dengan dengan banyaknya konflik\n",
        "def calculate_fitness(chromosome):\n",
        "    conflicts = 0\n",
        "    for i in range(len(chromosome)):\n",
        "        for j in range(i + 1, len(chromosome)):\n",
        "            a, b = chromosome[i], chromosome[j]\n",
        "            # Jika waktu dan hari sama:\n",
        "            same_time = a[\"hari\"] == b[\"hari\"] and a[\"jam\"] == b[\"jam\"]\n",
        "            if same_time:\n",
        "                # Dosen mengajar di dua tempat\n",
        "                if a[\"dosen\"] == b[\"dosen\"]:\n",
        "                    conflicts += 1\n",
        "                # Ruang dipakai dua kelas\n",
        "                if a[\"ruang\"] == b[\"ruang\"]:\n",
        "                    conflicts += 1\n",
        "   ## return -conflicts  # makin besar (maksimal = 0), makin baik\n",
        "    fitness= 1/(1+conflicts)\n",
        "    return fitness\n"
      ],
      "metadata": {
        "id": "q7z0zQhIRyM7"
      },
      "execution_count": 6,
      "outputs": []
    },
    {
      "cell_type": "markdown",
      "source": [
        "### **3. Seleksi Orangtua**\n",
        "\n",
        "Proses seleksi orang tua disini menggunakan tournament selection"
      ],
      "metadata": {
        "id": "GthYu5rJTQgr"
      }
    },
    {
      "cell_type": "code",
      "source": [
        "# Seleksi turnamen\n",
        "def tournament_selection(population, k=3):\n",
        "    selected = random.sample(population, k)\n",
        "    return max(selected, key=lambda x: calculate_fitness(x))"
      ],
      "metadata": {
        "id": "hST-1fJBTMBj"
      },
      "execution_count": 7,
      "outputs": []
    },
    {
      "cell_type": "markdown",
      "source": [
        "### **4. Cross Over**\n",
        "Cross over dilakukan dengan teknik 1 point crossover, dimana posisi titik potong ditentukan secara random/acak\n",
        "misal **probabilitas cross over**= **0.8**"
      ],
      "metadata": {
        "id": "JABU7dV9TmSr"
      }
    },
    {
      "cell_type": "code",
      "source": [
        "#  1 point cross over\n",
        "def crossover(parent1, parent2, crossoverrate=0.8):\n",
        "    if random.random() < crossoverrate:\n",
        "        # posisi titik potong cross over di lakukan secara random\n",
        "        point = random.randint(1, len(parent1)-1)\n",
        "        child1 = parent1[:point] + parent2[point:]\n",
        "        child2 = parent2[:point] + parent1[point:]\n",
        "    else:\n",
        "        # Jika tidak memenuhi probabilitas cross over /Tidak ada crossover\n",
        "        # child = copy orang tua\n",
        "        child1 = parent1\n",
        "        child2 = parent2\n",
        "    return child1, child2\n",
        ""
      ],
      "metadata": {
        "id": "9oV3n3MTSUUM"
      },
      "execution_count": 8,
      "outputs": []
    },
    {
      "cell_type": "markdown",
      "source": [
        "### **5. Mutasi**\n",
        "Misal Probabililitas mutasi=0.2"
      ],
      "metadata": {
        "id": "Grs4dAnAUA5U"
      }
    },
    {
      "cell_type": "code",
      "source": [
        "# Mutasi\n",
        "\n",
        "def mutate(chromosome, mutation_rate=0.2):\n",
        "    for kelas in chromosome:\n",
        "        if random.random() < mutation_rate:\n",
        "            kelas[\"jam\"] = random.choice(jam)\n",
        "            kelas[\"ruang\"] = random.choice(ruang)\n",
        "            kelas[\"hari\"] = random.choice(hari)\n",
        "    return chromosome"
      ],
      "metadata": {
        "id": "nIlw7cxCTGpc"
      },
      "execution_count": 9,
      "outputs": []
    },
    {
      "cell_type": "markdown",
      "source": [
        "### **6. Evolusi/ Survivor Selection**\n",
        "Proses evolusi dilakukan dengan konsep generational replacement, yakni mengganti seluruh populasi lama dengan populasi baru hasil reproduksi (Crossover & Mutasi)"
      ],
      "metadata": {
        "id": "ryEQ7hngWRRz"
      }
    },
    {
      "cell_type": "code",
      "execution_count": 10,
      "metadata": {
        "id": "yMCJAHV38qvJ"
      },
      "outputs": [],
      "source": [
        "# Evolusi populasi\n",
        "def genetic_algorithm(generations=100, pop_size=50):\n",
        "    population = [generate_chromosome() for _ in range(pop_size)]\n",
        "\n",
        "    for gen in range(generations):\n",
        "        new_population = []\n",
        "        for _ in range(pop_size // 2):\n",
        "            parent1 = tournament_selection(population)\n",
        "            parent2 = tournament_selection(population)\n",
        "\n",
        "            child1, child2 = crossover(parent1, parent2)\n",
        "            #generational replacement\n",
        "            new_population.extend([mutate(child1), mutate(child2)])\n",
        "        population = new_population\n",
        "\n",
        "        # Cek apakah sudah ada solusi tanpa konflik\n",
        "        best = max(population, key=lambda x: calculate_fitness(x))\n",
        "        if calculate_fitness(best) == 1:\n",
        "            print(f\"✅ Solusi optimal ditemukan di generasi {gen+1}!\")\n",
        "            return best\n",
        "\n",
        "    # Jika belum ada solusi optimal\n",
        "    best = max(population, key=lambda x: calculate_fitness(x))\n",
        "    print(\"⚠️ Solusi optimal tidak ditemukan. Ini solusi terbaik:\")\n",
        "    print(\"Fitness:\", calculate_fitness(best))\n",
        "    return best"
      ]
    },
    {
      "cell_type": "code",
      "source": [
        "solusi = genetic_algorithm()\n",
        "for kelas in solusi:\n",
        "    print(kelas)\n",
        "    print(\"Fitness: \",calculate_fitness(solusi))"
      ],
      "metadata": {
        "colab": {
          "base_uri": "https://localhost:8080/"
        },
        "id": "EwqLy9K29MLZ",
        "outputId": "0ba8fe65-5a0d-4b94-93c4-6c906a193a1e"
      },
      "execution_count": 11,
      "outputs": [
        {
          "output_type": "stream",
          "name": "stdout",
          "text": [
            "✅ Solusi optimal ditemukan di generasi 1!\n",
            "{'matkul': 'IF101', 'dosen': 'Budi', 'hari': 'Selasa', 'jam': '10.00', 'ruang': 'R1'}\n",
            "Fitness:  1.0\n",
            "{'matkul': 'IF102', 'dosen': 'Anwar', 'hari': 'Rabu', 'jam': '10.00', 'ruang': 'R1'}\n",
            "Fitness:  1.0\n",
            "{'matkul': 'IF103', 'dosen': 'Anwar', 'hari': 'Rabu', 'jam': '13.00', 'ruang': 'R2'}\n",
            "Fitness:  1.0\n",
            "{'matkul': 'IF104', 'dosen': 'Budi', 'hari': 'Rabu', 'jam': '10.00', 'ruang': 'R2'}\n",
            "Fitness:  1.0\n",
            "{'matkul': 'IF105', 'dosen': 'Budi', 'hari': 'Senin', 'jam': '08.00', 'ruang': 'R2'}\n",
            "Fitness:  1.0\n"
          ]
        }
      ]
    }
  ]
}